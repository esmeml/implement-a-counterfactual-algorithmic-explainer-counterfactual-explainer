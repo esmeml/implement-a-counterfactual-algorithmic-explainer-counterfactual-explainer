{
 "cells": [
  {
   "cell_type": "code",
   "execution_count": 2,
   "metadata": {},
   "outputs": [
    {
     "data": {
      "text/plain": [
       "{'divide': 'warn', 'over': 'warn', 'under': 'ignore', 'invalid': 'warn'}"
      ]
     },
     "execution_count": 2,
     "metadata": {},
     "output_type": "execute_result"
    }
   ],
   "source": [
    "import numpy as np\n",
    "from scipy.optimize import minimize\n",
    "\n",
    "np.seterr(divide='raise')"
   ]
  },
  {
   "cell_type": "code",
   "execution_count": 147,
   "metadata": {},
   "outputs": [],
   "source": [
    "def distance(x, xp, weights):\n",
    "    median = np.median(x)\n",
    "    abs_diff = np.abs(x - xp) * weights\n",
    "    mad = np.median(np.abs(x - median))\n",
    "    if mad == 0:\n",
    "        mad = 1e-9\n",
    "    d = np.sum(abs_diff / mad)\n",
    "    return d\n",
    "\n",
    "def loss_function(x, xp, yp, balance, predict, weights=None):\n",
    "    if weights is None:\n",
    "        weights = np.ones(x.shape)\n",
    "    return balance((predict(xp) - yp) ** 2) + distance(x, xp, weights)\n",
    "\n"
   ]
  },
  {
   "cell_type": "code",
   "execution_count": 137,
   "metadata": {},
   "outputs": [
    {
     "name": "stdout",
     "output_type": "stream",
     "text": [
      "0\n",
      "1\n",
      "1\n",
      "0.6000000000000001\n"
     ]
    }
   ],
   "source": [
    "def model(x):\n",
    "    # xor\n",
    "    return np.abs(x[0] - x[1])\n",
    "print(model([0, 0]))\n",
    "print(model([1, 0]))\n",
    "print(model([0, 1]))\n",
    "print(model([0.8, 0.2]))"
   ]
  },
  {
   "cell_type": "code",
   "execution_count": 22,
   "metadata": {},
   "outputs": [],
   "source": [
    "from sklearn import datasets\n",
    "from sklearn.naive_bayes import GaussianNB\n",
    "from sklearn.metrics import r2_score\n",
    "from sklearn.model_selection import train_test_split\n",
    "data = datasets.load_breast_cancer()"
   ]
  },
  {
   "cell_type": "code",
   "execution_count": 116,
   "metadata": {},
   "outputs": [
    {
     "name": "stdout",
     "output_type": "stream",
     "text": [
      "0.623015873015873\n"
     ]
    }
   ],
   "source": [
    "x_train, x_test, y_train, y_test = train_test_split(data.data, data.target, test_size=0.2)\n",
    "model = GaussianNB()\n",
    "model.fit(x_train, y_train)\n",
    "\n",
    "res = model.predict(x_test)\n",
    "print(r2_score(y_test, res))"
   ]
  },
  {
   "cell_type": "code",
   "execution_count": 27,
   "metadata": {},
   "outputs": [
    {
     "name": "stdout",
     "output_type": "stream",
     "text": [
      "['malignant' 'benign']\n"
     ]
    }
   ],
   "source": [
    "print(data.target_names)"
   ]
  },
  {
   "cell_type": "code",
   "execution_count": 209,
   "metadata": {},
   "outputs": [
    {
     "name": "stdout",
     "output_type": "stream",
     "text": [
      "[0 1] [0.41856143 0.08829357]\n",
      "Initial input [0 1]\n",
      "Initial prediction 1\n",
      "Prediction objective 0\n",
      "Counterfactual [-7.17951449e-04  9.99999995e-01]\n",
      "Prediction made using counterfactual 1.0007179465496485\n",
      "Diff with initial input [-7.17951449e-04 -4.89890428e-09]\n"
     ]
    }
   ],
   "source": [
    "i = 3\n",
    "# input vector\n",
    "# input_example = x_test[y_test == 1][i]\n",
    "input_example = np.array([0, 1])\n",
    "desired_output = 0\n",
    "\n",
    "balance = 0.001\n",
    "# maximum diff with desired output\n",
    "epsilon = 0.01\n",
    "# step size for increasing desired output importance in loss\n",
    "alpha = 10\n",
    "\n",
    "weights = np.ones(input_example.shape)\n",
    "# weights = np.array([1, 10])\n",
    "# weights[[1, 5, 8]] = 2\n",
    "# weights[[0, 10, 15]] = .5\n",
    "# predict = lambda x:model.predict([x])[0]\n",
    "predict = model\n",
    "\n",
    "# initial counterfactual\n",
    "xp = np.random.random_sample(input_example.shape)\n",
    "print(input_example, xp)\n",
    "# optimize loss\n",
    "def loss(xp):\n",
    "    return loss_function(input_example, xp, desired_output, lambda x: balance * x, predict, weights)\n",
    "res = minimize(loss, xp)\n",
    "# print(res)\n",
    "xp = res.x\n",
    "\n",
    "print(\"Initial input\", input_example)\n",
    "print(\"Initial prediction\", predict(input_example))\n",
    "print(\"Prediction objective\", desired_output)\n",
    "print(\"Counterfactual\", xp)\n",
    "print(\"Prediction made using counterfactual\", predict(xp))\n",
    "print(\"Diff with initial input\", xp - input_example)"
   ]
  },
  {
   "cell_type": "code",
   "execution_count": 210,
   "metadata": {},
   "outputs": [
    {
     "name": "stdout",
     "output_type": "stream",
     "text": [
      "0.01 0.7646153043666034\n",
      "0.1 0.17380676848878018\n",
      "1.0 0.4275962980807253\n",
      "10.0 0.7598343076593457\n",
      "100.0 0.4924739941061401\n",
      "1000.0 0.08599449122295655\n",
      "Step  6\n",
      "Initial input [0 1]\n",
      "Initial prediction 1\n",
      "Prediction objective 0\n",
      "Counterfactual [0.99621483 1.        ]\n",
      "Prediction made using counterfactual 0.0037851688287607876\n",
      "Diff with initial input [ 9.96214827e-01 -3.86195675e-09]\n"
     ]
    }
   ],
   "source": [
    "i = 0\n",
    "while np.abs(predict(xp) - desired_output) > epsilon:\n",
    "    xp = np.random.random_sample(input_example.shape)\n",
    "    balance *= alpha\n",
    "    print(balance, predict(xp))\n",
    "    # print(xp)\n",
    "    def loss(xp):\n",
    "        return loss_function(input_example, xp, desired_output, lambda x: balance * x, predict, weights)\n",
    "    res = minimize(loss, xp)\n",
    "    xp = res.x\n",
    "    i += 1\n",
    "\n",
    "print(\"Step \", i)\n",
    "print(\"Initial input\", input_example)\n",
    "print(\"Initial prediction\", predict(input_example))\n",
    "print(\"Prediction objective\", desired_output)\n",
    "print(\"Counterfactual\", xp)\n",
    "print(\"Prediction made using counterfactual\", predict(xp))\n",
    "print(\"Diff with initial input\", xp - input_example)"
   ]
  },
  {
   "cell_type": "code",
   "execution_count": 211,
   "metadata": {},
   "outputs": [
    {
     "name": "stdout",
     "output_type": "stream",
     "text": [
      "[0.99899998 0.99999999] 0.0010000074439092677\n",
      "[0.99468385 0.99999999] 0.00531614060187624\n",
      "[0.99451167 0.99999999] 0.005488323280531726\n",
      "[0.99899998 0.99999999] 0.0010000074440709161\n",
      "[0.99463243 0.99999999] 0.005367563238761086\n",
      "[0.99324506 1.        ] 0.00675493801493654\n",
      "[0.99899998 0.99999999] 0.001000007422734761\n",
      "[0.99899998 0.99999999] 0.0010000074581459906\n",
      "[0.99899998 0.99999999] 0.0010000074673981452\n",
      "[0.99454824 0.99999999] 0.005451750887793039\n"
     ]
    }
   ],
   "source": [
    "def loss(xp):\n",
    "    return loss_function(input_example, xp, desired_output, lambda x: 1000 * x, predict, weights)\n",
    "for i in range(10):\n",
    "    xp = np.random.random_sample(input_example.shape)\n",
    "    res = minimize(loss, xp)\n",
    "    xp = res.x\n",
    "    print(res.x, predict(res.x))\n"
   ]
  },
  {
   "cell_type": "code",
   "execution_count": 212,
   "metadata": {},
   "outputs": [
    {
     "data": {
      "text/plain": [
       "<BarContainer object of 2 artists>"
      ]
     },
     "execution_count": 212,
     "metadata": {},
     "output_type": "execute_result"
    },
    {
     "data": {
      "image/png": "[encoded data removed]",
      "text/plain": [
       "<Figure size 432x288 with 1 Axes>"
      ]
     },
     "metadata": {
      "needs_background": "light"
     },
     "output_type": "display_data"
    }
   ],
   "source": [
    "%matplotlib inline\n",
    "import matplotlib.pyplot as plt\n",
    "rel_diff = (xp - input_example)\n",
    "plt.bar(list(range(len(xp))), rel_diff)"
   ]
  },
  {
   "cell_type": "code",
   "execution_count": 92,
   "metadata": {},
   "outputs": [
    {
     "name": "stdout",
     "output_type": "stream",
     "text": [
      ".. _breast_cancer_dataset:\n",
      "\n",
      "Breast cancer wisconsin (diagnostic) dataset\n",
      "--------------------------------------------\n",
      "\n",
      "**Data Set Characteristics:**\n",
      "\n",
      "    :Number of Instances: 569\n",
      "\n",
      "    :Number of Attributes: 30 numeric, predictive attributes and the class\n",
      "\n",
      "    :Attribute Information:\n",
      "        - radius (mean of distances from center to points on the perimeter)\n",
      "        - texture (standard deviation of gray-scale values)\n",
      "        - perimeter\n",
      "        - area\n",
      "        - smoothness (local variation in radius lengths)\n",
      "        - compactness (perimeter^2 / area - 1.0)\n",
      "        - concavity (severity of concave portions of the contour)\n",
      "        - concave points (number of concave portions of the contour)\n",
      "        - symmetry \n",
      "        - fractal dimension (\"coastline approximation\" - 1)\n",
      "\n",
      "        The mean, standard error, and \"worst\" or largest (mean of the three\n",
      "        largest values) of these features were computed for each image,\n",
      "        resulting in 30 features.  For instance, field 3 is Mean Radius, field\n",
      "        13 is Radius SE, field 23 is Worst Radius.\n",
      "\n",
      "        - class:\n",
      "                - WDBC-Malignant\n",
      "                - WDBC-Benign\n",
      "\n",
      "    :Summary Statistics:\n",
      "\n",
      "    ===================================== ====== ======\n",
      "                                           Min    Max\n",
      "    ===================================== ====== ======\n",
      "    radius (mean):                        6.981  28.11\n",
      "    texture (mean):                       9.71   39.28\n",
      "    perimeter (mean):                     43.79  188.5\n",
      "    area (mean):                          143.5  2501.0\n",
      "    smoothness (mean):                    0.053  0.163\n",
      "    compactness (mean):                   0.019  0.345\n",
      "    concavity (mean):                     0.0    0.427\n",
      "    concave points (mean):                0.0    0.201\n",
      "    symmetry (mean):                      0.106  0.304\n",
      "    fractal dimension (mean):             0.05   0.097\n",
      "    radius (standard error):              0.112  2.873\n",
      "    texture (standard error):             0.36   4.885\n",
      "    perimeter (standard error):           0.757  21.98\n",
      "    area (standard error):                6.802  542.2\n",
      "    smoothness (standard error):          0.002  0.031\n",
      "    compactness (standard error):         0.002  0.135\n",
      "    concavity (standard error):           0.0    0.396\n",
      "    concave points (standard error):      0.0    0.053\n",
      "    symmetry (standard error):            0.008  0.079\n",
      "    fractal dimension (standard error):   0.001  0.03\n",
      "    radius (worst):                       7.93   36.04\n",
      "    texture (worst):                      12.02  49.54\n",
      "    perimeter (worst):                    50.41  251.2\n",
      "    area (worst):                         185.2  4254.0\n",
      "    smoothness (worst):                   0.071  0.223\n",
      "    compactness (worst):                  0.027  1.058\n",
      "    concavity (worst):                    0.0    1.252\n",
      "    concave points (worst):               0.0    0.291\n",
      "    symmetry (worst):                     0.156  0.664\n",
      "    fractal dimension (worst):            0.055  0.208\n",
      "    ===================================== ====== ======\n",
      "\n",
      "    :Missing Attribute Values: None\n",
      "\n",
      "    :Class Distribution: 212 - Malignant, 357 - Benign\n",
      "\n",
      "    :Creator:  Dr. William H. Wolberg, W. Nick Street, Olvi L. Mangasarian\n",
      "\n",
      "    :Donor: Nick Street\n",
      "\n",
      "    :Date: November, 1995\n",
      "\n",
      "This is a copy of UCI ML Breast Cancer Wisconsin (Diagnostic) datasets.\n",
      "https://goo.gl/U2Uwz2\n",
      "\n",
      "Features are computed from a digitized image of a fine needle\n",
      "aspirate (FNA) of a breast mass.  They describe\n",
      "characteristics of the cell nuclei present in the image.\n",
      "\n",
      "Separating plane described above was obtained using\n",
      "Multisurface Method-Tree (MSM-T) [K. P. Bennett, \"Decision Tree\n",
      "Construction Via Linear Programming.\" Proceedings of the 4th\n",
      "Midwest Artificial Intelligence and Cognitive Science Society,\n",
      "pp. 97-101, 1992], a classification method which uses linear\n",
      "programming to construct a decision tree.  Relevant features\n",
      "were selected using an exhaustive search in the space of 1-4\n",
      "features and 1-3 separating planes.\n",
      "\n",
      "The actual linear program used to obtain the separating plane\n",
      "in the 3-dimensional space is that described in:\n",
      "[K. P. Bennett and O. L. Mangasarian: \"Robust Linear\n",
      "Programming Discrimination of Two Linearly Inseparable Sets\",\n",
      "Optimization Methods and Software 1, 1992, 23-34].\n",
      "\n",
      "This database is also available through the UW CS ftp server:\n",
      "\n",
      "ftp ftp.cs.wisc.edu\n",
      "cd math-prog/cpo-dataset/machine-learn/WDBC/\n",
      "\n",
      ".. topic:: References\n",
      "\n",
      "   - W.N. Street, W.H. Wolberg and O.L. Mangasarian. Nuclear feature extraction \n",
      "     for breast tumor diagnosis. IS&T/SPIE 1993 International Symposium on \n",
      "     Electronic Imaging: Science and Technology, volume 1905, pages 861-870,\n",
      "     San Jose, CA, 1993.\n",
      "   - O.L. Mangasarian, W.N. Street and W.H. Wolberg. Breast cancer diagnosis and \n",
      "     prognosis via linear programming. Operations Research, 43(4), pages 570-577, \n",
      "     July-August 1995.\n",
      "   - W.H. Wolberg, W.N. Street, and O.L. Mangasarian. Machine learning techniques\n",
      "     to diagnose breast cancer from fine-needle aspirates. Cancer Letters 77 (1994) \n",
      "     163-171.\n"
     ]
    }
   ],
   "source": []
  }
 ],
 "metadata": {
  "kernelspec": {
   "display_name": "Python 3",
   "language": "python",
   "name": "python3"
  },
  "language_info": {
   "codemirror_mode": {
    "name": "ipython",
    "version": 3
   },
   "file_extension": ".py",
   "mimetype": "text/x-python",
   "name": "python",
   "nbconvert_exporter": "python",
   "pygments_lexer": "ipython3",
   "version": "3.7.1"
  }
 },
 "nbformat": 4,
 "nbformat_minor": 2
}
